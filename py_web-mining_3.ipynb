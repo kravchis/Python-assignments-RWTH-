{
 "cells": [
  {
   "cell_type": "markdown",
   "metadata": {},
   "source": [
    "# 1. Implementing node2vec\n",
    "\n",
    "Write a function to simulate a random walks of length l utilizing the algorithm provided in node2vec paper with parameters p and q.  "
   ]
  },
  {
   "cell_type": "code",
   "execution_count": 59,
   "metadata": {},
   "outputs": [],
   "source": [
    "#imports:\n",
    "import numpy as np\n",
    "import networkx as nx\n",
    "import gensim\n",
    "from gensim.models.word2vec import Word2Vec"
   ]
  },
  {
   "cell_type": "code",
   "execution_count": 60,
   "metadata": {},
   "outputs": [],
   "source": [
    "#test values:\n",
    "\n",
    "p = 1\n",
    "q = 0.5\n",
    "l = 2\n",
    "s = '1'\n",
    "G = nx.Graph()\n",
    "G.add_edges_from([('1','2'),('1','3'),('2','3'),('2','4'),('2','5')])\n",
    "k = 3\n",
    "d = 128"
   ]
  },
  {
   "cell_type": "code",
   "execution_count": 61,
   "metadata": {},
   "outputs": [
    {
     "data": {
      "text/plain": [
       "['1', '3', '1', '2']"
      ]
     },
     "execution_count": 61,
     "metadata": {},
     "output_type": "execute_result"
    }
   ],
   "source": [
    "def biasedRandomWalk(Graph = G, length = l,p = p, q = q, start_node=s):\n",
    "    \n",
    "    walk = []\n",
    "    former_node = start_node\n",
    "    walk.append(former_node)\n",
    "    node = np.random.choice(list(Graph.neighbors(start_node)))\n",
    "    walk.append(node)\n",
    "\n",
    "    for i in range(length):\n",
    "            \n",
    "        probabilities = dict()\n",
    "        probabilities[former_node] = 1/p\n",
    "        \n",
    "        for node2 in Graph.neighbors(node):\n",
    "                if (former_node, node2) in Graph.edges:\n",
    "                    probabilities[node2] = 1\n",
    "                else:\n",
    "                    probabilities[node2] = 1/q\n",
    "        \n",
    "        \n",
    "        summ = sum(probabilities.values())\n",
    "        \n",
    "        for key in probabilities:\n",
    "            probabilities[key] /= summ\n",
    "        \n",
    "        former_node = node\n",
    "        node = np.random.choice(list(probabilities), p = list(probabilities.values()))\n",
    "        \n",
    "        walk.append(node)\n",
    "        \n",
    "    # generated walk considering start_node s\n",
    "    \n",
    "    return walk    \n",
    "# when storing the visited nodes in the list walk, store them as stings rather than int as gensim allows \n",
    "# only string inputs which you will use subsequently\n",
    "# e.g., walk = ['1','2','4',...] and not [1, 2, 4, ....]\n",
    "\n",
    "biasedRandomWalk()"
   ]
  },
  {
   "cell_type": "markdown",
   "metadata": {},
   "source": [
    "Generate k random walks considering each node as the starting point of a walk. This means the number of generated walks should be of the order of the (Nk) where n is the number of nodes. "
   ]
  },
  {
   "cell_type": "code",
   "execution_count": 62,
   "metadata": {},
   "outputs": [
    {
     "data": {
      "text/plain": [
       "[['1', '3', '1', '3'],\n",
       " ['1', '2', '5', '2'],\n",
       " ['1', '2', '1', '2'],\n",
       " ['2', '3', '1', '3'],\n",
       " ['2', '1', '2', '1'],\n",
       " ['2', '3', '1', '2'],\n",
       " ['3', '2', '4', '2'],\n",
       " ['3', '2', '4', '2'],\n",
       " ['3', '1', '3', '1'],\n",
       " ['4', '2', '5', '2'],\n",
       " ['4', '2', '5', '2'],\n",
       " ['4', '2', '1', '2'],\n",
       " ['5', '2', '5', '2'],\n",
       " ['5', '2', '3', '1'],\n",
       " ['5', '2', '4', '2']]"
      ]
     },
     "execution_count": 62,
     "metadata": {},
     "output_type": "execute_result"
    }
   ],
   "source": [
    "def GenerateRandomWalks(Graph = G, length = l, p = p, q = q, num_walks=k):\n",
    "    \n",
    "    nodes = Graph.nodes # list of nodes in the graph\n",
    "    all_walks = [biasedRandomWalk(Graph, length, p, q, start) for start in nodes for i in range(num_walks)]\n",
    "    \n",
    "    # walk = generate k walks for each node using the function biasedRandomWalk\n",
    "    \n",
    "    return all_walks\n",
    "\n",
    "GenerateRandomWalks()"
   ]
  },
  {
   "cell_type": "markdown",
   "metadata": {},
   "source": [
    "Considering these generated random walks as sentences utilize the word2vec function in gensim to obtain embeddings of the nodes. "
   ]
  },
  {
   "cell_type": "code",
   "execution_count": 63,
   "metadata": {},
   "outputs": [],
   "source": [
    "def generateEmbeddings(all_walks,dimension = d, min_count=1):\n",
    "    \n",
    "    model = Word2Vec(all_walks, size=d, min_count = min_count)\n",
    "    # generate embeddings using word2vec\n",
    "\n",
    "    return model"
   ]
  },
  {
   "cell_type": "markdown",
   "metadata": {},
   "source": [
    "Consider the bible network (bible_names_incomp.txt) where nodes represent proper nouns and an edge occurs between two nodes if they coocur in a sentence. Obtain embeddings for the nodes using the functions implemented before. The parameters are - \n",
    "1. length = 10\n",
    "2. p = 1\n",
    "3. q = 0.5\n",
    "4. k (number of walks for each node) = 5\n",
    "5. dimension of embedding d = 128"
   ]
  },
  {
   "cell_type": "code",
   "execution_count": 64,
   "metadata": {},
   "outputs": [
    {
     "name": "stderr",
     "output_type": "stream",
     "text": [
      "C:\\ProgramData\\Anaconda3\\lib\\site-packages\\networkx\\drawing\\nx_pylab.py:611: MatplotlibDeprecationWarning: isinstance(..., numbers.Number)\n",
      "  if cb.is_numlike(alpha):\n"
     ]
    },
    {
     "data": {
      "image/png": "[encoded data removed]",
      "text/plain": [
       "<Figure size 432x288 with 1 Axes>"
      ]
     },
     "metadata": {},
     "output_type": "display_data"
    }
   ],
   "source": [
    "# note : You may use networkx to represent the graph\n",
    "\n",
    "f = open(\"bible_names_incomp.txt\", \"r\")\n",
    "\n",
    "edges = [tuple(line.replace(\"\\n\", \"\").split(\" \")) for line in f]\n",
    "\n",
    "G = nx.Graph()\n",
    "G.add_edges_from(edges)\n",
    "\n",
    "\n",
    "mod = generateEmbeddings(GenerateRandomWalks(G,length = 10, p = 1, q = 0.5, num_walks = 5), dimension = 128)\n",
    "\n",
    "nx.draw(G, size = 10, pos=nx.spring_layout(G), with_labels = True) "
   ]
  },
  {
   "cell_type": "markdown",
   "metadata": {},
   "source": [
    "# 2. Link prediction using representations\n",
    "\n",
    "The network provided above consists only of 80 percent of all the edges present in the network. The whole network is available in the file Bible_names.txt. \n",
    "\n",
    "Find out the edges which are missing in the incomplete network.\n"
   ]
  },
  {
   "cell_type": "code",
   "execution_count": 65,
   "metadata": {},
   "outputs": [],
   "source": [
    "G = nx.read_edgelist('bible_names.txt')\n",
    "Gi = nx.read_edgelist('bible_names_incomp.txt')"
   ]
  },
  {
   "cell_type": "code",
   "execution_count": 67,
   "metadata": {},
   "outputs": [
    {
     "name": "stdout",
     "output_type": "stream",
     "text": [
      "There are 1826 missing edges\n"
     ]
    }
   ],
   "source": [
    "def missing_edges(G_complete, G_missing):\n",
    "    m_edges = []\n",
    "    for edge in G_complete.edges():\n",
    "        if edge not in G_missing.edges():\n",
    "            m_edges.append(edge)\n",
    "    # obtain the missing edges and put them in m_edges.. edge should be represented as a tuple (u,v)\n",
    "    return m_edges\n",
    "print('There are {} missing edges'.format(len(missing_edges(G, Gi))))"
   ]
  },
  {
   "cell_type": "markdown",
   "metadata": {},
   "source": [
    "For every pair of vertices (u,v) in the incomplete network which are not connected by an edge, calculate the cosine similarity between the embedding of u and embedding of v."
   ]
  },
  {
   "cell_type": "code",
   "execution_count": 71,
   "metadata": {},
   "outputs": [],
   "source": [
    "import itertools \n",
    "from scipy import spatial\n",
    "#from gensim.models.word2vec import Word2Vec\n",
    "def similarityNodes(G_missing):\n",
    "    not_connected = []\n",
    "    for f in range(1, len(list(G_missing.nodes()))-1):\n",
    "        for s in range(f+1,len(list(G_missing.nodes()))):\n",
    "            if str(s) not in list(G_missing.neighbors(str(f))):\n",
    "                not_connected.append(tuple([str(f), str(s)]))\n",
    "    mod = generateEmbeddings(GenerateRandomWalks(G_missing,length = 10, p = 1, q = 0.5, num_walks = 5), dimension = 128)\n",
    "    similarity = {}\n",
    "    for pair in not_connected:\n",
    "        similarity[tuple([pair[0],pair[1]])] = 1 - spatial.distance.cosine(mod.wv[pair[0]],mod.wv[pair[1]])\n",
    "    return similarity\n",
    "#imilarityNodes(Gi)"
   ]
  },
  {
   "cell_type": "markdown",
   "metadata": {},
   "source": [
    "Rank all these pairs based on the similarity score."
   ]
  },
  {
   "cell_type": "code",
   "execution_count": 72,
   "metadata": {},
   "outputs": [],
   "source": [
    "def obtainRankedPairs(similarity):\n",
    "    ranked_pairs = [pair for pair, score in similarity.items() if score>0.97] \n",
    "    return ranked_pairs\n",
    "similarity = similarityNodes(Gi)\n",
    "ranks = obtainRankedPairs(similarity)"
   ]
  },
  {
   "cell_type": "markdown",
   "metadata": {},
   "source": [
    "# Precision @ k\n",
    "\n",
    "Calculate the precision at k for the link prediction task. To elaborate, consider the ranked list you obtained in the last step of the previos task. Now start from the first element in the list. If the vertex pair is indeed an edge in the network, then precision @ 1 = 1/1 = 1, now lets say the second element is not an edge in the original network, then precision @ 2 = (1+0)/2 = 0.5 and so on. You should continue to k = number of missing edges. "
   ]
  },
  {
   "cell_type": "code",
   "execution_count": 73,
   "metadata": {},
   "outputs": [],
   "source": [
    "def calculatePrecisionk(ranked_pairs,m_edges):\n",
    "    tmp = 0\n",
    "    precision = []\n",
    "    # calculate precision values from k = 1 to len(m_edges)\n",
    "    for i in range(1, len(m_edges)):\n",
    "        if ranked_pairs[i] in m_edges:\n",
    "            tmp += 1\n",
    "            precision.append(tmp/i)\n",
    "        else:\n",
    "            precision.append(tmp/i)\n",
    "    return precision\n",
    "\n",
    "m_edges = missing_edges(G, Gi)\n",
    "precision = calculatePrecisionk(ranks,m_edges)\n",
    "#print(precision)"
   ]
  },
  {
   "cell_type": "markdown",
   "metadata": {},
   "source": [
    "Plot a graph with x-axis as k (1 to the number of missing edges) and y-axis as the precision value @k"
   ]
  },
  {
   "cell_type": "code",
   "execution_count": 81,
   "metadata": {},
   "outputs": [
    {
     "data": {
      "image/png": "[encoded data removed]",
      "text/plain": [
       "<Figure size 720x720 with 1 Axes>"
      ]
     },
     "metadata": {
      "needs_background": "light"
     },
     "output_type": "display_data"
    }
   ],
   "source": [
    "%matplotlib inline\n",
    "import matplotlib.pyplot as plt\n",
    "def plotPrecision(precision):\n",
    "    plt.figure(figsize=(10,10))\n",
    "    plt.plot(range(len(precision)), precision)\n",
    "    plt.title('Precision over iteration')\n",
    "    plt.xlabel('iterations')\n",
    "    plt.ylabel('precision')\n",
    "    \n",
    "plotPrecision(precision)\n",
    "    "
   ]
  }
 ],
 "metadata": {
  "kernelspec": {
   "display_name": "Python 3",
   "language": "python",
   "name": "python3"
  },
  "language_info": {
   "codemirror_mode": {
    "name": "ipython",
    "version": 3
   },
   "file_extension": ".py",
   "mimetype": "text/x-python",
   "name": "python",
   "nbconvert_exporter": "python",
   "pygments_lexer": "ipython3",
   "version": "3.7.3"
  },
  "nteract": {
   "version": "0.12.3"
  }
 },
 "nbformat": 4,
 "nbformat_minor": 2
}
